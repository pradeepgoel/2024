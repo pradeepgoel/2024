{
 "cells": [
  {
   "cell_type": "code",
   "execution_count": 77,
   "metadata": {},
   "outputs": [],
   "source": [
    "# Import all required libraries and setup OpenAI api keys\n",
    "\n",
    "import os\n",
    "import openai\n",
    "import pandas as pd \n",
    "import matplotlib.pyplot as plt\n",
    "import numpy as np\n",
    "from openai import OpenAI\n",
    "\n",
    "from dotenv import load_dotenv, find_dotenv\n",
    "\n",
    "_ = load_dotenv(find_dotenv())\n",
    "\n",
    "openai.api_key = os.environ['OPENAI_API_KEY']\n"
   ]
  },
  {
   "cell_type": "code",
   "execution_count": 49,
   "metadata": {},
   "outputs": [],
   "source": [
    "# Import smaller set from data folder\n",
    "\n",
    "reviews_set_small = pd.read_csv('data/Amazon_Product_Reviews_Edited.csv')"
   ]
  },
  {
   "cell_type": "code",
   "execution_count": null,
   "metadata": {},
   "outputs": [],
   "source": [
    "# Review all columns in the above dataset\n",
    "reviews_set_small.columns"
   ]
  },
  {
   "cell_type": "code",
   "execution_count": 51,
   "metadata": {},
   "outputs": [],
   "source": [
    "# Add another column that combines review titles and review text, we will send this for embedding.\n",
    "reviews_set_small[\"combined\"] = reviews_set_small['reviews.title'] + reviews_set_small['reviews.text']"
   ]
  },
  {
   "cell_type": "code",
   "execution_count": null,
   "metadata": {},
   "outputs": [],
   "source": [
    "# Check combined column\n",
    "reviews_set_small"
   ]
  },
  {
   "cell_type": "code",
   "execution_count": null,
   "metadata": {},
   "outputs": [],
   "source": [
    "# Review rating distribution across the set\n",
    "\n",
    "reviews_set_small.loc[:,['reviews_rating']]"
   ]
  },
  {
   "cell_type": "code",
   "execution_count": null,
   "metadata": {},
   "outputs": [],
   "source": [
    "# Here we analyze rating distribution and will use it later to compare with sentiments labelling\n",
    "\n",
    "df = reviews_set_small.groupby('reviews_rating').reviews_rating.count().reset_index(name='count')\n",
    "df\n"
   ]
  },
  {
   "cell_type": "code",
   "execution_count": null,
   "metadata": {},
   "outputs": [],
   "source": [
    "# Create a bar graph\n",
    "\n",
    "fig, ax = plt.subplots()\n",
    "\n",
    "ax.bar(df.loc[:,'reviews_rating'], df.loc[:,'count'], width=0.50)\n",
    "\n",
    "ax.set_ylabel('Count of each rating')\n",
    "ax.set_title('Ratings Distribution')"
   ]
  },
  {
   "cell_type": "code",
   "execution_count": 78,
   "metadata": {},
   "outputs": [],
   "source": [
    "\n",
    "# Creat an OpenAI client\n",
    "client = OpenAI()\n"
   ]
  },
  {
   "cell_type": "code",
   "execution_count": 79,
   "metadata": {},
   "outputs": [],
   "source": [
    "def get_completion(prompt, model=\"gpt-3.5-turbo\"):\n",
    "    messages = [{\"role\": \"user\", \"content\": prompt}]\n",
    "    completion = client.chat.completions.create(\n",
    "        model=model,\n",
    "        messages=messages,\n",
    "        temperature=0, # this is the degree of randomness of the model's output\n",
    "    )\n",
    "    return completion.choices[0].message.content"
   ]
  },
  {
   "cell_type": "code",
   "execution_count": null,
   "metadata": {},
   "outputs": [],
   "source": [
    "# Write a prompt and pass review text as \"Review text\"\n",
    "prompt = f\"\"\"\n",
    "What is the sentiment of the following product review, \n",
    "which is delimited with triple backticks?\n",
    "\n",
    "Review text: '''{product_review}'''\n",
    "\"\"\"\n",
    "response = get_completion(prompt)\n",
    "print(response)"
   ]
  },
  {
   "cell_type": "code",
   "execution_count": 81,
   "metadata": {},
   "outputs": [],
   "source": [
    "# Evaluate a single negative review\n",
    "product_review_n = \"\"\"\n",
    "Freetime makes me angry. So, so angry. 3\\\n",
    "As the Kids Edition is nothing more than \\ \n",
    "a basic 50 7 Kindle Fire with some extras,\\\n",
    "this review is primarily concerned with the \\\n",
    "50-worth of extras bundled with the Kids \\\n",
    "Edition. Primarily, the year of included Freetime \\\n",
    "....................\n",
    "\"\"\""
   ]
  },
  {
   "cell_type": "code",
   "execution_count": 47,
   "metadata": {},
   "outputs": [],
   "source": [
    "# Evaluate a single positive review\n",
    "product_review_p = \"\"\"\n",
    "Great upgrade for aesthetics \\\n",
    "I'm a huge fan of the Echo family.\\\n",
    "I have two Echo's, three Dots and one Tap.\\\n",
    "No they aren't essential to my life \\\n",
    "but I love playing music, listening to\\\n",
    "the news and controlling the Philips Hue\\\n",
    "............................\n",
    "\"\"\""
   ]
  },
  {
   "cell_type": "code",
   "execution_count": null,
   "metadata": {},
   "outputs": [],
   "source": [
    "# Loop through all reviews and collect the result in an array.\n",
    "# This may take sometime and results can be saved in a local csv file as well\n",
    "\n",
    "sentiments_array = []\n",
    "for review in reviews_set_small['combined']:\n",
    "    review_text = review\n",
    "    prompt = f\"\"\"\n",
    "    What is the sentiment of the following product review? \\\n",
    "    Give your answer in a single word as 'positive', 'negative', 'neutral'. \\\n",
    "    Review text: '''{review_text}'''\n",
    "    \"\"\"\n",
    "    response = get_completion(prompt)\n",
    "    sentiments_array.append(response)\n",
    "sentiments_array"
   ]
  },
  {
   "cell_type": "code",
   "execution_count": 56,
   "metadata": {},
   "outputs": [],
   "source": [
    "# Collect all ratings into a CSV file for later use\n",
    "df_sentiment.to_csv('data/sentiment_analysis_19012024.csv')"
   ]
  }
 ],
 "metadata": {
  "kernelspec": {
   "display_name": "Python 3",
   "language": "python",
   "name": "python3"
  },
  "language_info": {
   "codemirror_mode": {
    "name": "ipython",
    "version": 3
   },
   "file_extension": ".py",
   "mimetype": "text/x-python",
   "name": "python",
   "nbconvert_exporter": "python",
   "pygments_lexer": "ipython3",
   "version": "3.11.4"
  }
 },
 "nbformat": 4,
 "nbformat_minor": 2
}
