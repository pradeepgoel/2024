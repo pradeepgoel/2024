{
 "cells": [
  {
   "cell_type": "code",
   "execution_count": 2,
   "metadata": {},
   "outputs": [],
   "source": [
    "import os\n",
    "import langchain\n",
    "import openai\n",
    "import sys\n",
    "import numpy as np\n",
    "from dotenv import load_dotenv, find_dotenv\n",
    "\n",
    "_ = load_dotenv(find_dotenv())\n",
    "\n",
    "openai_api_key = os.environ['OPENAI_API_KEY']"
   ]
  },
  {
   "cell_type": "code",
   "execution_count": 3,
   "metadata": {},
   "outputs": [
    {
     "data": {
      "text/plain": [
       "78"
      ]
     },
     "execution_count": 3,
     "metadata": {},
     "output_type": "execute_result"
    }
   ],
   "source": [
    "# Load a pdf file using langchain document loaders. Multiple documents can be loaded as well. \n",
    "\n",
    "from langchain.document_loaders import PyPDFLoader\n",
    "\n",
    "loader = PyPDFLoader(\"data/Southern Region CP7 Strategic Business Plan.pdf\")\n",
    "\n",
    "pages = loader.load_and_split()\n",
    "\n",
    "len(pages)"
   ]
  },
  {
   "cell_type": "code",
   "execution_count": null,
   "metadata": {},
   "outputs": [],
   "source": [
    "# Add sample code for loading multiple documents\n",
    "loaders = [\n",
    "# add file path here\n",
    "\n",
    "]"
   ]
  },
  {
   "cell_type": "code",
   "execution_count": null,
   "metadata": {},
   "outputs": [],
   "source": [
    "# Review examine a page that is loaded into pages object\n",
    "pages[7]"
   ]
  },
  {
   "cell_type": "code",
   "execution_count": 5,
   "metadata": {},
   "outputs": [
    {
     "data": {
      "text/plain": [
       "457"
      ]
     },
     "execution_count": 5,
     "metadata": {},
     "output_type": "execute_result"
    }
   ],
   "source": [
    "# Split document using Recursive Character Text Splitter. It splits on /n/n, /n, \".\", \",\", \" \", \"\"\n",
    "# Experiment with different chunk size and check resulting splits\n",
    "\n",
    "\n",
    "from langchain.text_splitter import RecursiveCharacterTextSplitter\n",
    "\n",
    "r_spliter = RecursiveCharacterTextSplitter(\n",
    "    chunk_size = 400,\n",
    "    chunk_overlap = 20\n",
    ")\n",
    "\n",
    "splits = r_spliter.split_documents(pages)\n",
    "\n",
    "len(splits)\n",
    "\n"
   ]
  },
  {
   "cell_type": "code",
   "execution_count": 6,
   "metadata": {},
   "outputs": [],
   "source": [
    "# Use Chroma database to store all chuncks and persist them into a directory.\n",
    "# Use !rm -rf, for removing old database file \n",
    "\n",
    "from langchain.vectorstores import Chroma\n",
    "persist_directory = 'data/mysplits_11Jan'\n",
    "# !rm -rf ./data/mysplits"
   ]
  },
  {
   "cell_type": "code",
   "execution_count": 8,
   "metadata": {},
   "outputs": [],
   "source": [
    "# Use OpenAI embeddings to embed all splits. Create an embeding_model object and pass that to Chroma DB for embedding.\n",
    "from langchain.embeddings import OpenAIEmbeddings\n",
    "embeddings_model = OpenAIEmbeddings()"
   ]
  },
  {
   "cell_type": "code",
   "execution_count": 9,
   "metadata": {},
   "outputs": [],
   "source": [
    "\n",
    "\n",
    "vectordb = Chroma.from_documents(\n",
    "\n",
    "    documents= splits,\n",
    "    embedding=embeddings_model,\n",
    "    #persist_directory=persist_directory\n",
    "    \n",
    ")"
   ]
  },
  {
   "cell_type": "code",
   "execution_count": 9,
   "metadata": {},
   "outputs": [
    {
     "name": "stdout",
     "output_type": "stream",
     "text": [
      "457\n"
     ]
    }
   ],
   "source": [
    "print(vectordb._collection.count())"
   ]
  },
  {
   "cell_type": "code",
   "execution_count": 13,
   "metadata": {},
   "outputs": [],
   "source": [
    "vectordb.persist()"
   ]
  },
  {
   "cell_type": "code",
   "execution_count": 10,
   "metadata": {},
   "outputs": [],
   "source": [
    "question = \"How many freight terminal are there?, Please list of first 5 terminals.\""
   ]
  },
  {
   "cell_type": "code",
   "execution_count": 11,
   "metadata": {},
   "outputs": [],
   "source": [
    "question1 = \"Does this document have information on Covid and its impact on revenue?\""
   ]
  },
  {
   "cell_type": "code",
   "execution_count": 12,
   "metadata": {},
   "outputs": [],
   "source": [
    "docs = vectordb.similarity_search(question, k=3)"
   ]
  },
  {
   "cell_type": "code",
   "execution_count": 13,
   "metadata": {},
   "outputs": [],
   "source": [
    "docs1 = vectordb.similarity_search(question1, k=5)"
   ]
  },
  {
   "cell_type": "code",
   "execution_count": 14,
   "metadata": {},
   "outputs": [
    {
     "data": {
      "text/plain": [
       "Document(page_content='and to forecast  how this will develop over the \\nduration of this plan through  to 2029.   \\nWe have s een an improvement in train service \\nperformance as a result of reduced passenger \\nnumbers during the Covid period. We have also seen \\nthe impact on performance of returning passenger \\ncrowding.  \\nOverall infrastructure reliability has improved over', metadata={'page': 6, 'source': 'data/Southern Region CP7 Strategic Business Plan.pdf'})"
      ]
     },
     "execution_count": 14,
     "metadata": {},
     "output_type": "execute_result"
    }
   ],
   "source": [
    "docs1[2]"
   ]
  },
  {
   "cell_type": "code",
   "execution_count": 15,
   "metadata": {},
   "outputs": [
    {
     "data": {
      "text/plain": [
       "Document(page_content='asset  renewals and improvements in the \\nmanagement of external events . \\n \\nFreight  \\nThere are 32 ac tive freight terminals on the Southern \\nregion . Colas Rail , DB Cargo , DC Rail , Freightliner , GB \\nRailfreight , Rail Operations (UK) Limited , Victa \\nRailfreight all operate in the Southern region \\ndelivering services for end users such as  Associated', metadata={'page': 12, 'source': 'data/Southern Region CP7 Strategic Business Plan.pdf'})"
      ]
     },
     "execution_count": 15,
     "metadata": {},
     "output_type": "execute_result"
    }
   ],
   "source": [
    "docs[0]"
   ]
  },
  {
   "cell_type": "code",
   "execution_count": 16,
   "metadata": {},
   "outputs": [],
   "source": [
    "from langchain.chat_models import ChatOpenAI\n",
    "\n",
    "llm = ChatOpenAI(model= \"gpt-3.5-turbo\", temperature=0)"
   ]
  },
  {
   "cell_type": "code",
   "execution_count": 17,
   "metadata": {},
   "outputs": [],
   "source": [
    "from langchain.chains import RetrievalQA\n",
    "\n",
    "qa_chain = RetrievalQA.from_chain_type(\n",
    "    llm,\n",
    "    retriever = vectordb.as_retriever()\n",
    ")"
   ]
  },
  {
   "cell_type": "code",
   "execution_count": 18,
   "metadata": {},
   "outputs": [
    {
     "data": {
      "text/plain": [
       "{'query': 'How many freight terminal are there?, Please list of first 5 terminals.',\n",
       " 'result': \"There are 32 active freight terminals on the Southern region. However, I don't have the specific information about the first five terminals.\"}"
      ]
     },
     "execution_count": 18,
     "metadata": {},
     "output_type": "execute_result"
    }
   ],
   "source": [
    "result = qa_chain({\"query\" : question})\n",
    "\n",
    "result"
   ]
  },
  {
   "cell_type": "code",
   "execution_count": 19,
   "metadata": {},
   "outputs": [
    {
     "data": {
      "text/plain": [
       "{'query': 'Does this document have information on Covid and its impact on revenue?',\n",
       " 'result': 'Yes, the document mentions that the Covid pandemic had a major impact on industry revenues. It states that revenue has recovered to approximately 85% of pre-Covid levels.'}"
      ]
     },
     "execution_count": 19,
     "metadata": {},
     "output_type": "execute_result"
    }
   ],
   "source": [
    "result1 = qa_chain({\"query\" : question1})\n",
    "\n",
    "result1\n"
   ]
  },
  {
   "cell_type": "code",
   "execution_count": 20,
   "metadata": {},
   "outputs": [],
   "source": [
    "# Prompt\n",
    "\n",
    "from langchain.prompts import PromptTemplate\n",
    "# Build prompt\n",
    "\n",
    "template = \"\"\" Use the following pieces of context to answer the question at the end. Add name of the documents at the end. take it from the context data. {context}\n",
    "Question: {question}\n",
    "Helpful Answer:\"\"\"\n",
    "QA_CHAIN_PROMPT = PromptTemplate.from_template(template)"
   ]
  },
  {
   "cell_type": "code",
   "execution_count": 26,
   "metadata": {},
   "outputs": [],
   "source": [
    "qa_chain1 = RetrievalQA.from_chain_type(\n",
    "    llm,\n",
    "    retriever=vectordb.as_retriever(),\n",
    "    return_source_documents=True,\n",
    "    chain_type_kwargs={\"prompt\": QA_CHAIN_PROMPT}\n",
    ")"
   ]
  },
  {
   "cell_type": "code",
   "execution_count": 22,
   "metadata": {},
   "outputs": [],
   "source": [
    "question = \"Does this document have any information on COVID impact?\""
   ]
  },
  {
   "cell_type": "code",
   "execution_count": 29,
   "metadata": {},
   "outputs": [],
   "source": [
    "result1 = qa_chain1({\"query\" : question})"
   ]
  },
  {
   "cell_type": "code",
   "execution_count": 30,
   "metadata": {},
   "outputs": [
    {
     "data": {
      "text/plain": [
       "'Yes, this document provides information on the impact of the Covid pandemic on industry revenues, changes in working patterns, and the recovery of revenue to approximately 85% of pre-Covid levels.'"
      ]
     },
     "execution_count": 30,
     "metadata": {},
     "output_type": "execute_result"
    }
   ],
   "source": [
    "result1[\"result\"]"
   ]
  },
  {
   "cell_type": "code",
   "execution_count": 31,
   "metadata": {},
   "outputs": [
    {
     "data": {
      "text/plain": [
       "[Document(page_content='Railway. The Covid pandemic had a major impact on \\nindustry revenues. It has also been a catalyst for \\nchanges in working patterns. Revenue  has recovered \\nto approximately 85% of pre -Covid levels but this \\nhas been complicated by Industrial Relations \\nchallenges. Considerable uncertainty  remains which \\nmakes it  difficult to define  the post -Covid base case ,', metadata={'page': 6, 'source': 'data/Southern Region CP7 Strategic Business Plan.pdf'}),\n",
       " Document(page_content='and to forecast  how this will develop over the \\nduration of this plan through  to 2029.   \\nWe have s een an improvement in train service \\nperformance as a result of reduced passenger \\nnumbers during the Covid period. We have also seen \\nthe impact on performance of returning passenger \\ncrowding.  \\nOverall infrastructure reliability has improved over', metadata={'page': 6, 'source': 'data/Southern Region CP7 Strategic Business Plan.pdf'}),\n",
       " Document(page_content='the pandemic now mean that it is much easier and \\nacceptable for people to work remotely.  \\nConsequently, peoples’ travel patterns have changed \\nfor the long -term.  T oday many commuters are no \\nlonger required to or want to work in an office five \\ndays a week and nationally , industry revenue \\nremains around 85% of pre -Covid levels.  \\nOur plan for Control Period 7 ( CP7) has been', metadata={'page': 1, 'source': 'data/Southern Region CP7 Strategic Business Plan.pdf'}),\n",
       " Document(page_content='The proposed actions are our best and most informed view of the activity that we would defer or de -scope if \\ntaking deci sions now. However, decisions to defer or descope would be reviewed at the time to reflect the \\nactual circumstance and whole system impacts so we would expect this to lead to changes in our plans.  \\nImpact of risk -adjusted plan  \\nCosts and volumes', metadata={'page': 54, 'source': 'data/Southern Region CP7 Strategic Business Plan.pdf'})]"
      ]
     },
     "execution_count": 31,
     "metadata": {},
     "output_type": "execute_result"
    }
   ],
   "source": [
    "result[\"source_documents\"]"
   ]
  }
 ],
 "metadata": {
  "kernelspec": {
   "display_name": "Python 3",
   "language": "python",
   "name": "python3"
  },
  "language_info": {
   "codemirror_mode": {
    "name": "ipython",
    "version": 3
   },
   "file_extension": ".py",
   "mimetype": "text/x-python",
   "name": "python",
   "nbconvert_exporter": "python",
   "pygments_lexer": "ipython3",
   "version": "3.11.4"
  }
 },
 "nbformat": 4,
 "nbformat_minor": 2
}
