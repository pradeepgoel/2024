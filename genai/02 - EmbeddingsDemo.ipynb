{
 "cells": [
  {
   "cell_type": "code",
   "execution_count": 1,
   "metadata": {},
   "outputs": [],
   "source": [
    "# Import all required libraries\n",
    "\n",
    "import os\n",
    "import langchain\n",
    "import openai\n",
    "import sys\n",
    "import numpy as np\n",
    "import sklearn\n",
    "import pandas as pd"
   ]
  },
  {
   "cell_type": "code",
   "execution_count": 2,
   "metadata": {},
   "outputs": [],
   "source": [
    "# Get OpenAI API key from .env file\n",
    " \n",
    "from dotenv import load_dotenv, find_dotenv\n",
    "_ = load_dotenv(find_dotenv())\n",
    "\n",
    "openai.api_key = os.environ['OPENAI_API_KEY']"
   ]
  },
  {
   "cell_type": "code",
   "execution_count": 19,
   "metadata": {},
   "outputs": [],
   "source": [
    "# Select some random sentences for demonstrating embeddings process\n",
    "# Select all lines and Ctr + /\n",
    "\n",
    "in_1 = \"Kids play in the park\"\n",
    "in_2 = \"An apple is red\"\n",
    "in_3 = \"Fruites like apple, oranges are good for health, like\"\n",
    "in_4 = \"An apple a day keeps a doctor away\"\n",
    "in_5 = \"New curry restaurant aims to please!\"\n",
    "in_6 = \"I like winters and snow\"\n",
    "in_7 = \"A new revolution is taking place\" \n",
    "\n",
    "# in_1 = \"generative AI rapidly adopted is in the design of physical products and services\"\n",
    "# in_2 = \"multi mode AI models will become popular\"\n",
    "# in_3 = \"happy friday to you\"\n",
    "# in_4 = \"keep calm and carry on\"\n",
    "# in_5 = \"US black friday sales were higher about 5%\"\n",
    "# in_6 = \"US ecommerce sales are increasingly becoming higher\"\n",
    "# in_7 = \"Morning run is a perfect way to start your day\"\n",
    "\n",
    "\n",
    "input_text_lst_news = [in_1, in_2, in_3, in_4, in_5, in_6, in_7]"
   ]
  },
  {
   "cell_type": "code",
   "execution_count": 20,
   "metadata": {},
   "outputs": [],
   "source": [
    "# Setup embedding model using langchain. It can also be setup by creaing OpenAI client and calling embedding function. \n",
    "\n",
    "from langchain.embeddings import OpenAIEmbeddings\n",
    "embedding_model = OpenAIEmbeddings(model=\"text-embedding-ada-002\")"
   ]
  },
  {
   "cell_type": "code",
   "execution_count": 22,
   "metadata": {},
   "outputs": [],
   "source": [
    "# Collect all embeddings in to an array and pass this to a numpy array\n",
    "\n",
    "embeddings = []\n",
    "for input_text in input_text_lst_news:\n",
    "    emb = embedding_model.embed_query(input_text) \n",
    "    embeddings.append(emb)\n",
    "    \n",
    "embeddings_array = np.array(embeddings) "
   ]
  },
  {
   "cell_type": "code",
   "execution_count": 23,
   "metadata": {},
   "outputs": [
    {
     "data": {
      "text/plain": [
       "(7, 1536)"
      ]
     },
     "execution_count": 23,
     "metadata": {},
     "output_type": "execute_result"
    }
   ],
   "source": [
    "# Find out the array shape, text-embedding-ada-002 generates embeddings with 1536 dimensions\n",
    "\n",
    "embeddings_array.shape"
   ]
  },
  {
   "cell_type": "code",
   "execution_count": 24,
   "metadata": {},
   "outputs": [
    {
     "data": {
      "text/plain": [
       "array([ 0.00879476, -0.00110241,  0.00707258, ..., -0.01724631,\n",
       "       -0.00529218, -0.00051711])"
      ]
     },
     "execution_count": 24,
     "metadata": {},
     "output_type": "execute_result"
    }
   ],
   "source": [
    "# Print any one embedding from embedding array\n",
    "embeddings_array[0]"
   ]
  },
  {
   "cell_type": "code",
   "execution_count": 25,
   "metadata": {},
   "outputs": [],
   "source": [
    "# We need to reduce dimensions by using PCA (Principal Component Analysis)\n",
    "\n",
    "from sklearn.decomposition import PCA\n",
    "PCA_Model = PCA(n_components=2)\n",
    "PCA_Model.fit(embeddings_array)\n",
    "twoDimension = PCA_Model.transform(embeddings_array)"
   ]
  },
  {
   "cell_type": "code",
   "execution_count": 26,
   "metadata": {},
   "outputs": [
    {
     "data": {
      "text/plain": [
       "(7, 2)"
      ]
     },
     "execution_count": 26,
     "metadata": {},
     "output_type": "execute_result"
    }
   ],
   "source": [
    "# Inspect dimensions and print the new array \n",
    "\n",
    "print(twoDimension.shape)\n",
    "\n",
    "twoDimension"
   ]
  },
  {
   "cell_type": "code",
   "execution_count": 28,
   "metadata": {},
   "outputs": [
    {
     "data": {
      "image/png": "[encoded data removed]",
      "text/plain": [
       "<Figure size 640x480 with 1 Axes>"
      ]
     },
     "metadata": {},
     "output_type": "display_data"
    }
   ],
   "source": [
    "# Plot embeddings using matplotlin.pyplot\n",
    "\n",
    "import matplotlib.pyplot as plt\n",
    "\n",
    "n = np.arange(len(input_text_lst_news))\n",
    "\n",
    "fig, ax = plt.subplots()\n",
    "\n",
    "ax.scatter(twoDimension[:,0], twoDimension[:,1])\n",
    "\n",
    "\n",
    "for i, txt in enumerate(n):\n",
    "    ax.annotate(txt, (twoDimension[:,0], twoDimension[:,1]))"
   ]
  }
 ],
 "metadata": {
  "kernelspec": {
   "display_name": "Python 3",
   "language": "python",
   "name": "python3"
  },
  "language_info": {
   "codemirror_mode": {
    "name": "ipython",
    "version": 3
   },
   "file_extension": ".py",
   "mimetype": "text/x-python",
   "name": "python",
   "nbconvert_exporter": "python",
   "pygments_lexer": "ipython3",
   "version": "3.11.4"
  }
 },
 "nbformat": 4,
 "nbformat_minor": 2
}
