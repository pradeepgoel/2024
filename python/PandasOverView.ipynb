{
 "cells": [
  {
   "cell_type": "markdown",
   "metadata": {},
   "source": [
    "## Pandas Data Type\n",
    " - Series\n",
    "    - Series is a single column\n",
    "    - Index i.e row name can be given to the column values\n",
    "    - Set index when creating a series by supplying index=['x', 'y', 'z']\n",
    "    - Set s.index=index['x', 'y', 'z'] if series is already created\n",
    "    - Allows access to a value based on its index postion as well as key name if a key/index name has been defined\n",
    "    - Are useful to extract data from a dataframe or merging data into the dataframe\n",
    " - Data Frame\n",
    "   - df.heads(2) to get a sample data\n",
    "   - df.columns get all cloumns\n",
    "   - Setting index of a dataframe pd.dataframe(df, index=['x'. 'y', 'z'])\n",
    "   - pd.read_csv('file path) to read data from a csv file\n",
    "   - pd.to_csv('file path) to write data to a csv file\n",
    "   - df.shape to know all rows and columns \n",
    "   - index method iloc (uses numerical index) vs. loc uses labels\n",
    "   - select a column, multiple columns\n",
    "   - Describe, Groupby, size to find out information about a column and so on \n"
   ]
  },
  {
   "cell_type": "code",
   "execution_count": 1,
   "metadata": {},
   "outputs": [],
   "source": [
    "\n",
    "import pandas as pd \n",
    "import numpy as np"
   ]
  },
  {
   "cell_type": "code",
   "execution_count": null,
   "metadata": {},
   "outputs": [],
   "source": [
    "# A simple series\n",
    "s = pd.Series([1,2,3,4])\n",
    "\n",
    "s "
   ]
  },
  {
   "cell_type": "code",
   "execution_count": 2,
   "metadata": {},
   "outputs": [
    {
     "data": {
      "text/plain": [
       "0    38\n",
       "1    26\n",
       "2    19\n",
       "3    19\n",
       "dtype: int64"
      ]
     },
     "execution_count": 2,
     "metadata": {},
     "output_type": "execute_result"
    }
   ],
   "source": [
    "# Create a series holding population values of ca, tx, fl, ny\n",
    "\n",
    "s = pd.Series([38, 26, 19, 19])\n",
    "\n",
    "s\n"
   ]
  },
  {
   "cell_type": "code",
   "execution_count": null,
   "metadata": {},
   "outputs": [],
   "source": [
    "# Above index can be named as states so information in the series can be more useful\n",
    "# It can be extracted and updated based on index name\n",
    "\n",
    "s = pd.Series([38,26,19,19], index=['ca', 'tx', 'fl', 'ny'])\n",
    "\n",
    "s\n",
    "\n"
   ]
  },
  {
   "cell_type": "code",
   "execution_count": 8,
   "metadata": {},
   "outputs": [
    {
     "data": {
      "text/plain": [
       "ca    38\n",
       "fl    26\n",
       "tx    19\n",
       "ny    19\n",
       "dtype: int64"
      ]
     },
     "execution_count": 8,
     "metadata": {},
     "output_type": "execute_result"
    }
   ],
   "source": [
    "# reset index alone unlike above where index is given when creating a series\n",
    "s.index = index=['ca', 'fl', 'tx', 'ny']\n",
    "\n",
    "s"
   ]
  },
  {
   "cell_type": "code",
   "execution_count": 9,
   "metadata": {},
   "outputs": [
    {
     "data": {
      "text/plain": [
       "array([38, 26, 19, 19], dtype=int64)"
      ]
     },
     "execution_count": 9,
     "metadata": {},
     "output_type": "execute_result"
    }
   ],
   "source": [
    "# Extrace values of a series\n",
    "\n",
    "s.values\n"
   ]
  },
  {
   "cell_type": "code",
   "execution_count": null,
   "metadata": {},
   "outputs": [],
   "source": [
    "# Extract index of a series\n",
    "\n",
    "s.index"
   ]
  },
  {
   "cell_type": "code",
   "execution_count": null,
   "metadata": {},
   "outputs": [],
   "source": [
    "# Run a mathematical operation, return boolean values for a state population more than 20 millions\n",
    "\n",
    "s > 20"
   ]
  },
  {
   "cell_type": "markdown",
   "metadata": {},
   "source": [
    "### DataFrame\n",
    " - Create a data frame by adding some sample population for each state for previous years"
   ]
  },
  {
   "cell_type": "code",
   "execution_count": 2,
   "metadata": {},
   "outputs": [
    {
     "data": {
      "text/html": [
       "<div>\n",
       "<style scoped>\n",
       "    .dataframe tbody tr th:only-of-type {\n",
       "        vertical-align: middle;\n",
       "    }\n",
       "\n",
       "    .dataframe tbody tr th {\n",
       "        vertical-align: top;\n",
       "    }\n",
       "\n",
       "    .dataframe thead th {\n",
       "        text-align: right;\n",
       "    }\n",
       "</style>\n",
       "<table border=\"1\" class=\"dataframe\">\n",
       "  <thead>\n",
       "    <tr style=\"text-align: right;\">\n",
       "      <th></th>\n",
       "      <th>ca</th>\n",
       "      <th>tx</th>\n",
       "      <th>fl</th>\n",
       "      <th>ny</th>\n",
       "    </tr>\n",
       "  </thead>\n",
       "  <tbody>\n",
       "    <tr>\n",
       "      <th>0</th>\n",
       "      <td>35</td>\n",
       "      <td>23</td>\n",
       "      <td>14</td>\n",
       "      <td>15</td>\n",
       "    </tr>\n",
       "    <tr>\n",
       "      <th>1</th>\n",
       "      <td>36</td>\n",
       "      <td>24</td>\n",
       "      <td>16</td>\n",
       "      <td>16</td>\n",
       "    </tr>\n",
       "    <tr>\n",
       "      <th>2</th>\n",
       "      <td>38</td>\n",
       "      <td>26</td>\n",
       "      <td>19</td>\n",
       "      <td>19</td>\n",
       "    </tr>\n",
       "  </tbody>\n",
       "</table>\n",
       "</div>"
      ],
      "text/plain": [
       "   ca  tx  fl  ny\n",
       "0  35  23  14  15\n",
       "1  36  24  16  16\n",
       "2  38  26  19  19"
      ]
     },
     "execution_count": 2,
     "metadata": {},
     "output_type": "execute_result"
    }
   ],
   "source": [
    "df = {'ca':[35, 36, 38], 'tx': [23, 24, 26], 'fl' : [14, 16, 19], 'ny' : [15, 16, 19]}\n",
    "\n",
    "pd.DataFrame(df) "
   ]
  },
  {
   "cell_type": "code",
   "execution_count": null,
   "metadata": {},
   "outputs": [],
   "source": [
    "# In above example, default index value is 0,1,2\n",
    "# Change them to some year, say 2020, 2021, 2022\n",
    "\n",
    "df = {'ca':[35, 36, 38], 'tx': [23, 24, 26], 'fl' : [14, 16, 19], 'ny' : [15, 16, 19]}\n",
    "\n",
    "pd.DataFrame(df, index = [2020, 2021, 2022 ])\n",
    "\n"
   ]
  },
  {
   "cell_type": "markdown",
   "metadata": {},
   "source": [
    "### Read data from a csv file\n",
    " - This sample file was downloded from Kaggle site\n",
    " - Read file from the directory\n",
    " - See number of columns and rows by \"shape\"\n",
    " - Make use of head method to see only few rows\n",
    " - Make use of column method to see what columns are there"
   ]
  },
  {
   "cell_type": "code",
   "execution_count": null,
   "metadata": {},
   "outputs": [],
   "source": [
    "pd.read_csv(\"data/winemag-data-130k-v2.csv\", nrows=10)"
   ]
  },
  {
   "cell_type": "code",
   "execution_count": null,
   "metadata": {},
   "outputs": [],
   "source": [
    "# Above file already has a inbuilt index \"Unnamed Coloumn\". This coulmn can be defined to use as index\n",
    "\n",
    "wine_review = pd.read_csv(\"data/winemag-data-130k-v2.csv\", nrows=10, index_col=0)\n",
    "\n",
    "wine_review"
   ]
  },
  {
   "cell_type": "code",
   "execution_count": null,
   "metadata": {},
   "outputs": [],
   "source": [
    "# find out the shape. There are no \"()\" in shape\n",
    "wine_review = pd.read_csv(\"data/winemag-data-130k-v2.csv\")\n",
    "\n",
    "wine_review.shape\n"
   ]
  },
  {
   "cell_type": "code",
   "execution_count": null,
   "metadata": {},
   "outputs": [],
   "source": [
    "# Inspect data using head method\n",
    "\n",
    "wine_review.head(2)"
   ]
  },
  {
   "cell_type": "code",
   "execution_count": null,
   "metadata": {},
   "outputs": [],
   "source": [
    "# Print all columns\n",
    "\n",
    "wine_review.columns"
   ]
  },
  {
   "cell_type": "markdown",
   "metadata": {},
   "source": [
    "### Indexing, Selecting and Assigning\n",
    "- This is from Kaggle site\n",
    "- First access data from the dataframe using dot property and [] bracket\n",
    "- Indexing using iloc and loc and key difference between them\n",
    "- \n"
   ]
  },
  {
   "cell_type": "code",
   "execution_count": null,
   "metadata": {},
   "outputs": [],
   "source": [
    "reviews = pd.read_csv(\"data/winemag-data-130k-v2.csv\", index_col=0)\n",
    "\n",
    "pd.set_option('display.max_rows', 5)\n",
    "\n",
    "reviews"
   ]
  },
  {
   "cell_type": "code",
   "execution_count": null,
   "metadata": {},
   "outputs": [],
   "source": [
    "# Access a column using dot propery and dictionary []\n",
    "\n",
    "reviews.country"
   ]
  },
  {
   "cell_type": "code",
   "execution_count": null,
   "metadata": {},
   "outputs": [],
   "source": [
    "reviews['country']"
   ]
  },
  {
   "cell_type": "code",
   "execution_count": null,
   "metadata": {},
   "outputs": [],
   "source": [
    "# Select 1 country and define the index\n",
    "\n",
    "reviews['country'][0]"
   ]
  },
  {
   "cell_type": "code",
   "execution_count": null,
   "metadata": {},
   "outputs": [],
   "source": [
    "# Access multiple columns using []\n",
    "\n",
    "reviews[['country', 'region_1']] "
   ]
  },
  {
   "cell_type": "markdown",
   "metadata": {},
   "source": [
    "### Indexing in Pandas\n",
    " - iloc and loc\n",
    " - iloc uses dataframe indices and loc uses 'lables' for indices\n",
    " - panda indexing is row first and column second unlike python that is column first and row second\n",
    " "
   ]
  },
  {
   "cell_type": "code",
   "execution_count": null,
   "metadata": {},
   "outputs": [],
   "source": [
    "# displays 1st row of the dataframe\n",
    "reviews.iloc[0]"
   ]
  },
  {
   "cell_type": "code",
   "execution_count": null,
   "metadata": {},
   "outputs": [],
   "source": [
    "# displays 1st column of the dataframe\n",
    "\n",
    "reviews.iloc[:,0]"
   ]
  },
  {
   "cell_type": "code",
   "execution_count": null,
   "metadata": {},
   "outputs": [],
   "source": [
    "# Typically : means everything, hence displayed all rows above, we can define number of rows as well\n",
    "\n",
    "reviews.iloc[:2,0]"
   ]
  },
  {
   "cell_type": "code",
   "execution_count": null,
   "metadata": {},
   "outputs": [],
   "source": [
    "# Define a range of rows as well as columns to be returned\n",
    "reviews.iloc[0:4, [0,1,2]]"
   ]
  },
  {
   "cell_type": "code",
   "execution_count": null,
   "metadata": {},
   "outputs": [],
   "source": [
    "# Some examples using loc\n",
    "\n",
    "reviews.loc[0:4,'country']"
   ]
  },
  {
   "cell_type": "code",
   "execution_count": null,
   "metadata": {},
   "outputs": [],
   "source": [
    "# Find all colunms\n",
    "\n",
    "reviews.columns"
   ]
  },
  {
   "cell_type": "code",
   "execution_count": null,
   "metadata": {},
   "outputs": [],
   "source": [
    "# Find out taster_name, taster_twitter_handle, points\n",
    "\n",
    "reviews.loc[:, ['taster_name', 'taster_twitter_handle', 'points']]"
   ]
  },
  {
   "cell_type": "code",
   "execution_count": null,
   "metadata": {},
   "outputs": [],
   "source": [
    "# Using set_index to set the index on any column that is much more meaningful\n",
    "\n",
    "reviews.set_index('title')"
   ]
  },
  {
   "cell_type": "code",
   "execution_count": null,
   "metadata": {},
   "outputs": [],
   "source": [
    "# Now look at the condititonal selection\n",
    "# Select all italian wines\n",
    "# Select all italian wines AND scored above 90\n",
    "# Select all italian wines OR scored above 90\n",
    "\n",
    "reviews.country == 'Italy'"
   ]
  },
  {
   "cell_type": "code",
   "execution_count": null,
   "metadata": {},
   "outputs": [],
   "source": [
    "# Learning - first you need to select a boolean index by executing above code and then only below selection will work\n",
    "reviews.loc [reviews.country == 'Italy']"
   ]
  },
  {
   "cell_type": "code",
   "execution_count": null,
   "metadata": {},
   "outputs": [],
   "source": [
    "# Now add points conditions as AND\n",
    "\n",
    "reviews.loc[(reviews.country == 'Italy') & (reviews.points >= 90)]"
   ]
  },
  {
   "cell_type": "code",
   "execution_count": null,
   "metadata": {},
   "outputs": [],
   "source": [
    "# OR condition, Italy OR above 90 points\n",
    "\n",
    "reviews.loc[(reviews.country == 'Italy') | (reviews.points >= 90)]"
   ]
  },
  {
   "cell_type": "code",
   "execution_count": null,
   "metadata": {},
   "outputs": [],
   "source": [
    "# There will be many columns that may not have any value, filter them using isnull and notnull value\n",
    "\n",
    "reviews.loc[reviews.price.notnull()]"
   ]
  },
  {
   "cell_type": "code",
   "execution_count": null,
   "metadata": {},
   "outputs": [],
   "source": [
    "# finding isnull values\n",
    "\n",
    "reviews.loc[reviews.price.isnull()]"
   ]
  },
  {
   "cell_type": "code",
   "execution_count": null,
   "metadata": {},
   "outputs": [],
   "source": [
    "renamed = reviews\n",
    "\n",
    "renamed.rename(columns= {'region_1' : 'region', 'region_2' : 'locale'})"
   ]
  },
  {
   "cell_type": "code",
   "execution_count": null,
   "metadata": {},
   "outputs": [],
   "source": [
    "# Set index to \"wine\", solution suggest that it is asking to reset rows axis as \"wine\" but not very clear from the question\n",
    "\n",
    "# reviews.set_index('winery')"
   ]
  },
  {
   "cell_type": "code",
   "execution_count": null,
   "metadata": {},
   "outputs": [],
   "source": [
    "# Set row axis as \"wine\"\n",
    "\n",
    "# reviews.rename_axis(\"wine\", axis=\"rows\")"
   ]
  },
  {
   "cell_type": "markdown",
   "metadata": {},
   "source": [
    "## Summarizing values and mapping functions in the data frame"
   ]
  },
  {
   "cell_type": "code",
   "execution_count": null,
   "metadata": {},
   "outputs": [],
   "source": [
    "reviews.head()"
   ]
  },
  {
   "cell_type": "code",
   "execution_count": null,
   "metadata": {},
   "outputs": [],
   "source": [
    "reviews.describe()"
   ]
  },
  {
   "cell_type": "code",
   "execution_count": null,
   "metadata": {},
   "outputs": [],
   "source": [
    "# Describe just points\n",
    "\n",
    "reviews.points.describe()"
   ]
  },
  {
   "cell_type": "code",
   "execution_count": null,
   "metadata": {},
   "outputs": [],
   "source": [
    "reviews.price.describe()"
   ]
  },
  {
   "cell_type": "code",
   "execution_count": null,
   "metadata": {},
   "outputs": [],
   "source": [
    "reviews.points.mean()"
   ]
  },
  {
   "cell_type": "code",
   "execution_count": null,
   "metadata": {},
   "outputs": [],
   "source": [
    "# Unique values\n",
    "\n",
    "reviews.taster_name.unique()"
   ]
  },
  {
   "cell_type": "code",
   "execution_count": null,
   "metadata": {},
   "outputs": [],
   "source": [
    "# Groupby function\n",
    "# Groupby on points and the show points count\n",
    "# Groupby on points and then show princ min\n",
    "# Groupby on country and then price agg\n",
    "\n",
    "reviews.groupby('points').points.count()"
   ]
  },
  {
   "cell_type": "code",
   "execution_count": null,
   "metadata": {},
   "outputs": [],
   "source": [
    "reviews.groupby('points').price.min()"
   ]
  },
  {
   "cell_type": "code",
   "execution_count": null,
   "metadata": {},
   "outputs": [],
   "source": [
    "reviews.groupby(['country']).price.agg([len, min, max])"
   ]
  }
 ],
 "metadata": {
  "kernelspec": {
   "display_name": "Python 3",
   "language": "python",
   "name": "python3"
  },
  "language_info": {
   "codemirror_mode": {
    "name": "ipython",
    "version": 3
   },
   "file_extension": ".py",
   "mimetype": "text/x-python",
   "name": "python",
   "nbconvert_exporter": "python",
   "pygments_lexer": "ipython3",
   "version": "3.11.4"
  }
 },
 "nbformat": 4,
 "nbformat_minor": 2
}
