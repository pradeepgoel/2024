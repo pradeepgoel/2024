{
 "cells": [
  {
   "cell_type": "markdown",
   "metadata": {},
   "source": [
    "## These are some examples from the website\n",
    "- https://faculty.washington.edu/otoomet/machinelearning-py/numpy-and-pandas.html"
   ]
  },
  {
   "cell_type": "markdown",
   "metadata": {},
   "source": [
    "### Setup Numpy"
   ]
  },
  {
   "cell_type": "code",
   "execution_count": 2,
   "metadata": {},
   "outputs": [],
   "source": [
    "import numpy as np"
   ]
  },
  {
   "cell_type": "markdown",
   "metadata": {},
   "source": [
    "### NumPy Array\n",
    " - Create an array a with 6 elements, single row\n",
    " - Create an array b with 2 lists"
   ]
  },
  {
   "cell_type": "code",
   "execution_count": null,
   "metadata": {},
   "outputs": [],
   "source": [
    "a = np.array([0,1,2,3,4,5])\n",
    "\n",
    "a "
   ]
  },
  {
   "cell_type": "code",
   "execution_count": 5,
   "metadata": {},
   "outputs": [
    {
     "name": "stdout",
     "output_type": "stream",
     "text": [
      "[[0 1 2]\n",
      " [3 4 5]]\n"
     ]
    }
   ],
   "source": [
    "b = np.array([[0,1,2],[3,4,5]])\n",
    "\n",
    "b "
   ]
  },
  {
   "cell_type": "markdown",
   "metadata": {},
   "source": [
    "### Find out shapes of above arrays"
   ]
  },
  {
   "cell_type": "code",
   "execution_count": 11,
   "metadata": {},
   "outputs": [
    {
     "data": {
      "text/plain": [
       "(6,)"
      ]
     },
     "execution_count": 11,
     "metadata": {},
     "output_type": "execute_result"
    }
   ],
   "source": [
    "# Shape of a \n",
    "np.shape(a)"
   ]
  },
  {
   "cell_type": "code",
   "execution_count": 12,
   "metadata": {},
   "outputs": [
    {
     "data": {
      "text/plain": [
       "(2, 3)"
      ]
     },
     "execution_count": 12,
     "metadata": {},
     "output_type": "execute_result"
    }
   ],
   "source": [
    "# Shape of b\n",
    "np.shape(b)"
   ]
  },
  {
   "cell_type": "markdown",
   "metadata": {},
   "source": [
    "### Reshape (change the shape) of above arrays"
   ]
  },
  {
   "cell_type": "code",
   "execution_count": 14,
   "metadata": {},
   "outputs": [
    {
     "data": {
      "text/plain": [
       "array([[0, 1, 2],\n",
       "       [3, 4, 5]])"
      ]
     },
     "execution_count": 14,
     "metadata": {},
     "output_type": "execute_result"
    }
   ],
   "source": [
    "a.reshape(2,3)"
   ]
  },
  {
   "cell_type": "code",
   "execution_count": 8,
   "metadata": {},
   "outputs": [
    {
     "data": {
      "text/plain": [
       "array([0, 1, 2, 3, 4, 5])"
      ]
     },
     "execution_count": 8,
     "metadata": {},
     "output_type": "execute_result"
    }
   ],
   "source": [
    "b.reshape(6,)"
   ]
  },
  {
   "cell_type": "markdown",
   "metadata": {},
   "source": [
    "### Creating arrays using computation\n",
    "- define the range and create a numpy vector\n",
    "- define an array with zeros and ones\n",
    "- do simple mathematical operations like, multiplication, summation and deductions"
   ]
  },
  {
   "cell_type": "code",
   "execution_count": 17,
   "metadata": {},
   "outputs": [
    {
     "data": {
      "text/plain": [
       "array([0, 1, 2, 3, 4, 5, 6, 7, 8, 9])"
      ]
     },
     "execution_count": 17,
     "metadata": {},
     "output_type": "execute_result"
    }
   ],
   "source": [
    "np.arange(10)"
   ]
  },
  {
   "cell_type": "markdown",
   "metadata": {},
   "source": [
    "### Now apply reshape function on array arange function"
   ]
  },
  {
   "cell_type": "code",
   "execution_count": 18,
   "metadata": {},
   "outputs": [
    {
     "data": {
      "text/plain": [
       "array([[0, 1],\n",
       "       [2, 3],\n",
       "       [4, 5],\n",
       "       [6, 7],\n",
       "       [8, 9]])"
      ]
     },
     "execution_count": 18,
     "metadata": {},
     "output_type": "execute_result"
    }
   ],
   "source": [
    "np.arange(10).reshape(5,2)"
   ]
  },
  {
   "cell_type": "code",
   "execution_count": 21,
   "metadata": {},
   "outputs": [],
   "source": [
    "# Create a numpy array intialized as zero\n",
    "\n",
    "c = np.zeros(10).reshape(5,2)"
   ]
  },
  {
   "cell_type": "code",
   "execution_count": 22,
   "metadata": {},
   "outputs": [],
   "source": [
    "# Create a numpy array initialized as ones\n",
    "\n",
    "d = np.ones(10).reshape(5,2)"
   ]
  },
  {
   "cell_type": "code",
   "execution_count": 23,
   "metadata": {},
   "outputs": [
    {
     "data": {
      "text/plain": [
       "array([[-1., -1.],\n",
       "       [-1., -1.],\n",
       "       [-1., -1.],\n",
       "       [-1., -1.],\n",
       "       [-1., -1.]])"
      ]
     },
     "execution_count": 23,
     "metadata": {},
     "output_type": "execute_result"
    }
   ],
   "source": [
    "# Do a mathematical operation to get a -1 using above arrays\n",
    "\n",
    "np.array(c - d)"
   ]
  },
  {
   "cell_type": "code",
   "execution_count": 24,
   "metadata": {},
   "outputs": [
    {
     "data": {
      "text/plain": [
       "array([[0., 0.],\n",
       "       [0., 0.],\n",
       "       [0., 0.],\n",
       "       [0., 0.],\n",
       "       [0., 0.]])"
      ]
     },
     "execution_count": 24,
     "metadata": {},
     "output_type": "execute_result"
    }
   ],
   "source": [
    "# Do a mathematical operation to get zeros in the resulting arrays\n",
    "\n",
    "np.array(c*d)"
   ]
  },
  {
   "cell_type": "code",
   "execution_count": null,
   "metadata": {},
   "outputs": [
    {
     "data": {
      "text/plain": [
       "array([[2., 2.],\n",
       "       [2., 2.],\n",
       "       [2., 2.],\n",
       "       [2., 2.],\n",
       "       [2., 2.]])"
      ]
     },
     "execution_count": 27,
     "metadata": {},
     "output_type": "execute_result"
    }
   ],
   "source": [
    "# Do a mathematical operation to sum both arrays\n",
    "\n",
    "np.array(d+d)"
   ]
  },
  {
   "cell_type": "code",
   "execution_count": 4,
   "metadata": {},
   "outputs": [
    {
     "data": {
      "text/plain": [
       "array([[ 2,  4,  6,  8, 10],\n",
       "       [12, 14, 16, 18, 20],\n",
       "       [22, 24, 26, 28, 30],\n",
       "       [32, 34, 36, 38, 40]])"
      ]
     },
     "execution_count": 4,
     "metadata": {},
     "output_type": "execute_result"
    }
   ],
   "source": [
    "# Create an array of even numbers\n",
    "\n",
    "np.arange(20).reshape(4,5)\n",
    "\n",
    "# Now make this a even number series by multiplying by 2\n",
    "\n",
    "2*np.arange(20).reshape(4,5)\n",
    "\n",
    "# Now add to get the final matrix\n",
    "\n",
    "2 + 2*np.arange(20).reshape(4,5)"
   ]
  },
  {
   "cell_type": "code",
   "execution_count": 5,
   "metadata": {},
   "outputs": [
    {
     "name": "stdout",
     "output_type": "stream",
     "text": [
      "[[ 0  1  2  3]\n",
      " [ 4  5  6  7]\n",
      " [ 8  9 10 11]]\n",
      "\n",
      "\n",
      "[[False False False False]\n",
      " [False False False  True]\n",
      " [ True  True  True  True]]\n",
      "\n",
      "\n"
     ]
    },
    {
     "data": {
      "text/plain": [
       "array([[False, False, False, False],\n",
       "       [False, False, False,  True],\n",
       "       [False, False, False, False]])"
      ]
     },
     "execution_count": 5,
     "metadata": {},
     "output_type": "execute_result"
    }
   ],
   "source": [
    "# Compare values and their results are in boolean\n",
    "\n",
    "a = np.arange(12).reshape(3,4)\n",
    "\n",
    "print(a)\n",
    "\n",
    "print(\"\\n\")\n",
    "\n",
    "b = a > 6\n",
    "\n",
    "print(b)\n",
    "print(\"\\n\")\n",
    "\n",
    "a == 7"
   ]
  },
  {
   "cell_type": "markdown",
   "metadata": {},
   "source": [
    "### Array Indexing and position based element extraction"
   ]
  },
  {
   "cell_type": "code",
   "execution_count": 8,
   "metadata": {},
   "outputs": [
    {
     "data": {
      "text/plain": [
       "array([3, 4, 5, 6])"
      ]
     },
     "execution_count": 8,
     "metadata": {},
     "output_type": "execute_result"
    }
   ],
   "source": [
    "# Create an array and print elements based on their positions\n",
    "\n",
    "a = np.arange(12)\n",
    "\n",
    "# Extract 4th till 8th element\n",
    "\n",
    "a[3:7]\n"
   ]
  },
  {
   "cell_type": "code",
   "execution_count": 12,
   "metadata": {},
   "outputs": [
    {
     "name": "stdout",
     "output_type": "stream",
     "text": [
      "[ 0  1  2 -1 -1 -1 -1  7  8  9 10 11]\n",
      "\n",
      "\n"
     ]
    }
   ],
   "source": [
    "# First print the value of array a\n",
    "# Reassign elements to some random values from 4th till 8th element\n",
    "\n",
    "print(a)\n",
    "\n",
    "print(\"\\n\")\n",
    "\n",
    "a[3:7] = -1\n"
   ]
  },
  {
   "cell_type": "code",
   "execution_count": 10,
   "metadata": {},
   "outputs": [
    {
     "name": "stdout",
     "output_type": "stream",
     "text": [
      "[[ 0  1  2  3]\n",
      " [ 4  5  6  7]\n",
      " [ 8  9 10 11]]\n"
     ]
    }
   ],
   "source": [
    "# create another array and make it 2 dimensional matrix\n",
    "\n",
    "twoD = np.arange(12).reshape(3,4)\n",
    "print(twoD)"
   ]
  },
  {
   "cell_type": "code",
   "execution_count": 11,
   "metadata": {},
   "outputs": [
    {
     "name": "stdout",
     "output_type": "stream",
     "text": [
      "[4 5 6 7]\n",
      "[[0 1 2 3]]\n"
     ]
    }
   ],
   "source": [
    "# Get all rows. Need to be careful when extracting with and without colon\n",
    "# Without colon, index starts with 0\n",
    "print(twoD[1])\n",
    "\n",
    "# With Colon, behaviour is diffetent \n",
    "\n",
    "print(twoD[0:1])"
   ]
  },
  {
   "cell_type": "markdown",
   "metadata": {},
   "source": [
    "#### Exercise\n",
    "- Create matrix and access rows and columns\n",
    "- create a 4x5 array of even numbers: 10, 12, 14, …\n",
    "- extract third column\n",
    "- set the fourth row to 1,2,3,4,5"
   ]
  },
  {
   "cell_type": "code",
   "execution_count": null,
   "metadata": {},
   "outputs": [],
   "source": [
    "# Create an array of even numbers\n",
    "\n",
    "a = np.arange(20).reshape(4,5)\n",
    "\n",
    "# Make this even number matrix\n",
    "\n",
    "b = 2*a\n",
    "\n",
    "# Add 10 to make this matrix as per exercise\n",
    "\n",
    "b = 10 + 2*a\n",
    "\n",
    "print(b)\n",
    "# Extract third column\n",
    "\n",
    "b[:,2]\n",
    "\n",
    "# Set the fourth row to 1,2,3,4,5\n",
    "\n",
    "b[3,] = [1,2,3,4,5]\n",
    "\n",
    "print(b)\n"
   ]
  },
  {
   "cell_type": "markdown",
   "metadata": {},
   "source": [
    "### Array indexing and logical extraction\n",
    "- a logical argument can be inputted to extract elements that meet the conditions, can also be replaced with other values\n",
    "- 2 arrays need not to be related and index from one vector can be used to extract elements from another"
   ]
  },
  {
   "cell_type": "code",
   "execution_count": 25,
   "metadata": {},
   "outputs": [
    {
     "data": {
      "text/plain": [
       "array([7, 8])"
      ]
     },
     "execution_count": 25,
     "metadata": {},
     "output_type": "execute_result"
    }
   ],
   "source": [
    "# Create an array and extract elements greater than 5\n",
    "a = np.array([1,2,7,8])\n",
    "\n",
    "a[a > 5]"
   ]
  },
  {
   "cell_type": "code",
   "execution_count": 27,
   "metadata": {},
   "outputs": [
    {
     "data": {
      "text/plain": [
       "array([15, 22])"
      ]
     },
     "execution_count": 27,
     "metadata": {},
     "output_type": "execute_result"
    }
   ],
   "source": [
    "# Demo extraction of elements from 1 vector based on index received from another vector\n",
    "\n",
    "names = np.array([\"Ram\", \"Shayam\", \"Seeta\", \"Geeta\", \"Kumar\", \"Ram\"])\n",
    "\n",
    "results = np.array([15, 17, 19, 20, 21, 22])\n",
    "\n",
    "# Now extract Ram's score from results vector\n",
    "\n",
    "results[names == \"Ram\"]"
   ]
  },
  {
   "cell_type": "code",
   "execution_count": 32,
   "metadata": {},
   "outputs": [
    {
     "name": "stdout",
     "output_type": "stream",
     "text": [
      "[[15 20]\n",
      " [17 20]\n",
      " [19 30]\n",
      " [20 32]\n",
      " [21 12]\n",
      " [22 12]]\n"
     ]
    },
    {
     "data": {
      "text/plain": [
       "array([[15, 20],\n",
       "       [22, 12]])"
      ]
     },
     "execution_count": 32,
     "metadata": {},
     "output_type": "execute_result"
    }
   ],
   "source": [
    "# As above but now results are 2D matrix\n",
    "\n",
    "names = np.array([\"Ram\", \"Shayam\", \"Seeta\", \"Geeta\", \"Kumar\", \"Ram\"])\n",
    "\n",
    "results = np.array([[15, 20], [17, 20], [19, 30], [20, 32], [21, 12], [22, 12]])\n",
    "\n",
    "print(results)\n",
    "\n",
    "# Now extract results for Ram, here need to check the syntex as it is with comma and working without that too\n",
    "\n",
    "results[names == \"Ram\"]\n"
   ]
  },
  {
   "cell_type": "code",
   "execution_count": 44,
   "metadata": {},
   "outputs": [
    {
     "name": "stdout",
     "output_type": "stream",
     "text": [
      "[[-0.02267741  2.44226472 -1.02040764 -0.94448131]\n",
      " [ 0.91663937  1.81083896  1.35332056  0.82896562]\n",
      " [-2.80571926  1.25414656 -2.15772491 -0.07215166]]\n"
     ]
    }
   ],
   "source": [
    "# Not use logical extraction and replace value. Create a matrix with random value\n",
    "# Run operations in next cell as a random number matrix is generated\n",
    "\n",
    "a = np.random.randn(12).reshape(3,4)\n",
    "\n",
    "print(a)\n"
   ]
  },
  {
   "cell_type": "code",
   "execution_count": 45,
   "metadata": {},
   "outputs": [
    {
     "name": "stdout",
     "output_type": "stream",
     "text": [
      "[[0.         2.44226472 0.         0.        ]\n",
      " [0.91663937 1.81083896 1.35332056 0.82896562]\n",
      " [0.         1.25414656 0.         0.        ]]\n"
     ]
    }
   ],
   "source": [
    "# Replace all negative values with 0\n",
    "\n",
    "a[a < 0] = 0\n",
    "\n",
    "print(a)"
   ]
  },
  {
   "cell_type": "code",
   "execution_count": 47,
   "metadata": {},
   "outputs": [
    {
     "name": "stdout",
     "output_type": "stream",
     "text": [
      "[[0. 1. 0. 0.]\n",
      " [2. 3. 4. 5.]\n",
      " [0. 6. 0. 0.]]\n"
     ]
    }
   ],
   "source": [
    "# now replace all positive values with 1, 2, 3 and so on but vector length should be same\n",
    "\n",
    "a[a > 0] = [1, 2, 3, 4, 5, 6]\n",
    "\n",
    "print(a)"
   ]
  }
 ],
 "metadata": {
  "kernelspec": {
   "display_name": "Python 3",
   "language": "python",
   "name": "python3"
  },
  "language_info": {
   "codemirror_mode": {
    "name": "ipython",
    "version": 3
   },
   "file_extension": ".py",
   "mimetype": "text/x-python",
   "name": "python",
   "nbconvert_exporter": "python",
   "pygments_lexer": "ipython3",
   "version": "3.11.4"
  }
 },
 "nbformat": 4,
 "nbformat_minor": 2
}
