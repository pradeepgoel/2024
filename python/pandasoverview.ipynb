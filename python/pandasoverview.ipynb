## Pandas Data Type
 - Series
    - Series is a single column
    - Index i.e row name can be given to the column values
    - Allows access to a value based on its index postion as well as key name if a key/index name has been defined
    - Are useful to extract data from a dataframe or merging data into the dataframe
 - Data Frame

import pandas as pd 
import numpy as np
# A simple series
s = pd.Series([1,2,3,4])

s 
# Create a series holding population values of ca, tx, fl, ny

s = pd.Series([38, 26, 19, 19])

s

# Above index can be named as states so information in the series can be more useful
# It can be extracted and updated based on index name

s = pd.Series([38,26,19,19], index=['ca', 'tx', 'fl', 'ny'])

s


# Extrace values of a series

s.values

# Extract index of a series

s.index
# Run a mathematical operation, return boolean values for a state population more than 20 millions

s > 20
### DataFrame
 - Create a data frame by adding some sample population for each state for previous years
df = {'ca':[35, 36, 38], 'tx': [23, 24, 26], 'fl' : [14, 16, 19], 'ny' : [15, 16, 19]}

pd.DataFrame(df) 
# In above example, default index value is 0,1,2
# Change them to some year, say 2020, 2021, 2022

df = {'ca':[35, 36, 38], 'tx': [23, 24, 26], 'fl' : [14, 16, 19], 'ny' : [15, 16, 19]}

pd.DataFrame(df, index = [2020, 2021, 2022 ])


### Read data from a csv file
 - This sample file was downloded from Kaggle site
 - Read file from the directory
 - See number of columns and rows by "shape"
 - Make use of head method to see only few rows
 - Make use of column method to see what columns are there
pd.read_csv("data/winemag-data-130k-v2.csv", nrows=10)
# Above file already has a inbuilt index "Unnamed Coloumn". This coulmn can be defined to use as index

wine_review = pd.read_csv("data/winemag-data-130k-v2.csv", nrows=10, index_col=0)

wine_review
# find out the shape. There are no "()" in shape
wine_review = pd.read_csv("data/winemag-data-130k-v2.csv")

wine_review.shape

# Inspect data using head method

wine_review.head(2)
# Print all columns

wine_review.columns
### Indexing, Selecting and Assigning
- This is from Kaggle site
- First access data from the dataframe using dot property and [] bracket
- Indexing using iloc and loc and key difference between them
- 

reviews = pd.read_csv("data/winemag-data-130k-v2.csv", index_col=0)

pd.set_option('display.max_rows', 5)

reviews
# Access a column using dot propery and dictionary []

reviews.country
reviews['country']
# Select 1 country and define the index

reviews['country'][0]
# Access multiple columns using []

reviews[['country', 'region_1']] 
### Indexing in Pandas
 - iloc and loc
 - iloc uses dataframe indices and loc uses 'lables' for indices
 - panda indexing is row first and column second unlike python that is column first and row second
 
# displays 1st row of the dataframe
reviews.iloc[0]
# displays 1st column of the dataframe

reviews.iloc[:,0]
# Typically : means everything, hence displayed all rows above, we can define number of rows as well

reviews.iloc[:2,0]
# Define a range of rows as well as columns to be returned
reviews.iloc[0:4, [0,1,2]]
# Some examples using loc

reviews.loc[0:4,'country']
# Find all colunms

reviews.columns
# Find out taster_name, taster_twitter_handle, points

reviews.loc[:, ['taster_name', 'taster_twitter_handle', 'points']]
# Using set_index to set the index on any column that is much more meaningful

reviews.set_index('title')
# Now look at the condititonal selection
# Select all italian wines
# Select all italian wines AND scored above 90
# Select all italian wines OR scored above 90

reviews.country == 'Italy'
# Learning - first you need to select a boolean index by executing above code and then only below selection will work
reviews.loc [reviews.country == 'Italy']
# Now add points conditions as AND

reviews.loc[(reviews.country == 'Italy') & (reviews.points >= 90)]
# OR condition, Italy OR above 90 points

reviews.loc[(reviews.country == 'Italy') | (reviews.points >= 90)]
# There will be many columns that may not have any value, filter them using isnull and notnull value

reviews.loc[reviews.price.notnull()]
# finding isnull values

reviews.loc[reviews.price.isnull()]
renamed = reviews

renamed.rename(columns= {'region_1' : 'region', 'region_2' : 'locale'})
# Set index to "wine", solution suggest that it is asking to reset rows axis as "wine" but not very clear from the question

# reviews.set_index('winery')
# Set row axis as "wine"

# reviews.rename_axis("wine", axis="rows")
## Summarizing values and mapping functions in the data frame
reviews.head()
reviews.describe()
# Describe just points

reviews.points.describe()
reviews.price.describe()
reviews.points.mean()
# Unique values

reviews.taster_name.unique()
# Groupby function
# Groupby on points and the show points count
# Groupby on points and then show princ min
# Groupby on country and then price agg

reviews.groupby('points').points.count()
reviews.groupby('points').price.min()
reviews.groupby(['country']).price.agg([len, min, max])
